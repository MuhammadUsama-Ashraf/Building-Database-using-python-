{
 "cells": [
  {
   "cell_type": "code",
   "execution_count": 1,
   "id": "1bad0b9c-e386-4386-a10e-67f1472a0f17",
   "metadata": {},
   "outputs": [
    {
     "name": "stdout",
     "output_type": "stream",
     "text": [
      "Collecting mysql-connector-python\n",
      "  Downloading mysql_connector_python-9.1.0-cp312-cp312-win_amd64.whl.metadata (6.2 kB)\n",
      "Downloading mysql_connector_python-9.1.0-cp312-cp312-win_amd64.whl (16.1 MB)\n",
      "   ---------------------------------------- 0.0/16.1 MB ? eta -:--:--\n",
      "   -- ------------------------------------- 1.0/16.1 MB 10.1 MB/s eta 0:00:02\n",
      "   --- ------------------------------------ 1.3/16.1 MB 4.2 MB/s eta 0:00:04\n",
      "   --- ------------------------------------ 1.6/16.1 MB 3.5 MB/s eta 0:00:05\n",
      "   ---- ----------------------------------- 1.8/16.1 MB 2.5 MB/s eta 0:00:06\n",
      "   ----- ---------------------------------- 2.4/16.1 MB 2.4 MB/s eta 0:00:06\n",
      "   ------ --------------------------------- 2.6/16.1 MB 2.2 MB/s eta 0:00:07\n",
      "   ------- -------------------------------- 2.9/16.1 MB 2.1 MB/s eta 0:00:07\n",
      "   ------- -------------------------------- 3.1/16.1 MB 2.0 MB/s eta 0:00:07\n",
      "   ------- -------------------------------- 3.1/16.1 MB 2.0 MB/s eta 0:00:07\n",
      "   -------- ------------------------------- 3.4/16.1 MB 1.7 MB/s eta 0:00:08\n",
      "   -------- ------------------------------- 3.4/16.1 MB 1.7 MB/s eta 0:00:08\n",
      "   --------- ------------------------------ 3.7/16.1 MB 1.6 MB/s eta 0:00:08\n",
      "   --------- ------------------------------ 3.9/16.1 MB 1.5 MB/s eta 0:00:09\n",
      "   ---------- ----------------------------- 4.2/16.1 MB 1.5 MB/s eta 0:00:09\n",
      "   ----------- ---------------------------- 4.5/16.1 MB 1.5 MB/s eta 0:00:08\n",
      "   ----------- ---------------------------- 4.7/16.1 MB 1.4 MB/s eta 0:00:08\n",
      "   ------------ --------------------------- 5.0/16.1 MB 1.5 MB/s eta 0:00:08\n",
      "   ------------- -------------------------- 5.5/16.1 MB 1.5 MB/s eta 0:00:08\n",
      "   -------------- ------------------------- 5.8/16.1 MB 1.5 MB/s eta 0:00:07\n",
      "   --------------- ------------------------ 6.3/16.1 MB 1.6 MB/s eta 0:00:07\n",
      "   ---------------- ----------------------- 6.8/16.1 MB 1.6 MB/s eta 0:00:06\n",
      "   ----------------- ---------------------- 7.1/16.1 MB 1.6 MB/s eta 0:00:06\n",
      "   ------------------ --------------------- 7.6/16.1 MB 1.6 MB/s eta 0:00:06\n",
      "   ------------------- -------------------- 7.9/16.1 MB 1.6 MB/s eta 0:00:06\n",
      "   -------------------- ------------------- 8.1/16.1 MB 1.6 MB/s eta 0:00:05\n",
      "   -------------------- ------------------- 8.4/16.1 MB 1.6 MB/s eta 0:00:05\n",
      "   --------------------- ------------------ 8.7/16.1 MB 1.6 MB/s eta 0:00:05\n",
      "   --------------------- ------------------ 8.7/16.1 MB 1.6 MB/s eta 0:00:05\n",
      "   ---------------------- ----------------- 8.9/16.1 MB 1.5 MB/s eta 0:00:05\n",
      "   ---------------------- ----------------- 9.2/16.1 MB 1.5 MB/s eta 0:00:05\n",
      "   ---------------------- ----------------- 9.2/16.1 MB 1.5 MB/s eta 0:00:05\n",
      "   ----------------------- ---------------- 9.4/16.1 MB 1.5 MB/s eta 0:00:05\n",
      "   ------------------------ --------------- 9.7/16.1 MB 1.5 MB/s eta 0:00:05\n",
      "   ------------------------- -------------- 10.2/16.1 MB 1.5 MB/s eta 0:00:04\n",
      "   -------------------------- ------------- 10.5/16.1 MB 1.5 MB/s eta 0:00:04\n",
      "   --------------------------- ------------ 11.0/16.1 MB 1.5 MB/s eta 0:00:04\n",
      "   ---------------------------- ----------- 11.3/16.1 MB 1.5 MB/s eta 0:00:04\n",
      "   ---------------------------- ----------- 11.5/16.1 MB 1.5 MB/s eta 0:00:03\n",
      "   ----------------------------- ---------- 11.8/16.1 MB 1.5 MB/s eta 0:00:03\n",
      "   ----------------------------- ---------- 11.8/16.1 MB 1.5 MB/s eta 0:00:03\n",
      "   ------------------------------ --------- 12.1/16.1 MB 1.5 MB/s eta 0:00:03\n",
      "   ------------------------------ --------- 12.1/16.1 MB 1.5 MB/s eta 0:00:03\n",
      "   ------------------------------ --------- 12.3/16.1 MB 1.4 MB/s eta 0:00:03\n",
      "   ------------------------------ --------- 12.3/16.1 MB 1.4 MB/s eta 0:00:03\n",
      "   ------------------------------ --------- 12.3/16.1 MB 1.4 MB/s eta 0:00:03\n",
      "   ------------------------------- -------- 12.6/16.1 MB 1.4 MB/s eta 0:00:03\n",
      "   ------------------------------- -------- 12.6/16.1 MB 1.4 MB/s eta 0:00:03\n",
      "   ------------------------------- -------- 12.8/16.1 MB 1.3 MB/s eta 0:00:03\n",
      "   ------------------------------- -------- 12.8/16.1 MB 1.3 MB/s eta 0:00:03\n",
      "   -------------------------------- ------- 13.1/16.1 MB 1.3 MB/s eta 0:00:03\n",
      "   --------------------------------- ------ 13.4/16.1 MB 1.3 MB/s eta 0:00:03\n",
      "   --------------------------------- ------ 13.6/16.1 MB 1.3 MB/s eta 0:00:02\n",
      "   ----------------------------------- ---- 14.2/16.1 MB 1.3 MB/s eta 0:00:02\n",
      "   ----------------------------------- ---- 14.4/16.1 MB 1.3 MB/s eta 0:00:02\n",
      "   ------------------------------------ --- 14.7/16.1 MB 1.3 MB/s eta 0:00:02\n",
      "   ------------------------------------- -- 15.2/16.1 MB 1.3 MB/s eta 0:00:01\n",
      "   -------------------------------------- - 15.5/16.1 MB 1.3 MB/s eta 0:00:01\n",
      "   ---------------------------------------  15.7/16.1 MB 1.3 MB/s eta 0:00:01\n",
      "   ---------------------------------------- 16.1/16.1 MB 1.3 MB/s eta 0:00:00\n",
      "Installing collected packages: mysql-connector-python\n",
      "Successfully installed mysql-connector-python-9.1.0\n"
     ]
    }
   ],
   "source": [
    "!pip install mysql-connector-python"
   ]
  },
  {
   "cell_type": "code",
   "execution_count": 1,
   "id": "1360764d-51bc-4a02-ba85-f1211f23c812",
   "metadata": {},
   "outputs": [
    {
     "name": "stdout",
     "output_type": "stream",
     "text": [
      "Collecting psycopg2\n",
      "  Downloading psycopg2-2.9.10-cp312-cp312-win_amd64.whl.metadata (5.0 kB)\n",
      "Downloading psycopg2-2.9.10-cp312-cp312-win_amd64.whl (1.2 MB)\n",
      "   ---------------------------------------- 0.0/1.2 MB ? eta -:--:--\n",
      "   ------------------------------------ --- 1.0/1.2 MB 8.4 MB/s eta 0:00:01\n",
      "   ---------------------------------------- 1.2/1.2 MB 5.7 MB/s eta 0:00:00\n",
      "Installing collected packages: psycopg2\n",
      "Successfully installed psycopg2-2.9.10\n"
     ]
    }
   ],
   "source": [
    "!pip install psycopg2"
   ]
  },
  {
   "cell_type": "code",
   "execution_count": 59,
   "id": "8dab9d1a-264b-46ad-9580-192ebeaf4add",
   "metadata": {},
   "outputs": [],
   "source": [
    "import psycopg2\n",
    "\n",
    "conn = psycopg2.connect(host=\"127.0.0.1\", database= \"postgres\", user=\"postgres\", password=\"1111\")\n",
    "cursor = conn.cursor()\n",
    "\n",
    "conn.set_session(autocommit=True)\n"
   ]
  },
  {
   "cell_type": "code",
   "execution_count": 61,
   "id": "dcc96ee2-76d5-4897-af38-5d5e4011dc79",
   "metadata": {},
   "outputs": [
    {
     "name": "stdout",
     "output_type": "stream",
     "text": [
      "Database created successfully!\n"
     ]
    }
   ],
   "source": [
    "# Create a new database\n",
    "try:\n",
    "    cursor.execute(\"CREATE DATABASE myfistdb\")\n",
    "    print(\"Database created successfully!\")\n",
    "except psycopg2.errors.DuplicateDatabase:\n",
    "    print(\"Database already exists!\")"
   ]
  },
  {
   "cell_type": "code",
   "execution_count": 63,
   "id": "435ecefc-2329-4ae7-a854-c8e0c6d192de",
   "metadata": {},
   "outputs": [],
   "source": [
    "conn.close()"
   ]
  },
  {
   "cell_type": "code",
   "execution_count": 65,
   "id": "95d8f452-0716-4ab3-9ee9-917b70719b9f",
   "metadata": {},
   "outputs": [],
   "source": [
    "conn.close()"
   ]
  },
  {
   "cell_type": "code",
   "execution_count": 91,
   "id": "81bc1984-e581-4a35-93f1-24833bf751a1",
   "metadata": {},
   "outputs": [],
   "source": [
    "conn = psycopg2.connect(host=\"127.0.0.1\", database= \"myfirstdb\", user=\"postgres\", password=\"1111\")\n",
    "cursor = conn.cursor()\n",
    "\n",
    "conn.set_session(autocommit=True)"
   ]
  },
  {
   "cell_type": "code",
   "execution_count": 109,
   "id": "526fb0bf-4885-4fd9-8623-9033b5606996",
   "metadata": {},
   "outputs": [],
   "source": [
    "try:\n",
    "    cursor.execute(\"CREATE TABLE IF NOT EXISTS student (student_id int, student_name varchar, age int, gender varchar, marks int);\")\n",
    "except psycopg2.Error as e:\n",
    "    print(e)"
   ]
  },
  {
   "cell_type": "code",
   "execution_count": 129,
   "id": "7b0b3f0c-2357-4721-a467-e8dc7541a347",
   "metadata": {},
   "outputs": [],
   "source": [
    "try:\n",
    "    cursor.execute(\"INSERT INTO student (student_id, student_name , age , gender , marks )\\\n",
    "    VALUES (%s,%s,%s,%s,%s)\",\\\n",
    "    (1, \"Raj\", 23, \"Male\", 85));\n",
    "except psycopg2.Error as e:\n",
    "    print(e)"
   ]
  },
  {
   "cell_type": "code",
   "execution_count": 131,
   "id": "0b534ce6-925f-42b9-b7ad-2b7dac075ed3",
   "metadata": {},
   "outputs": [],
   "source": [
    "try:\n",
    "    cursor.execute(\"INSERT INTO student (student_id, student_name , age , gender , marks )\\\n",
    "    VALUES (%s,%s,%s,%s,%s)\",\\\n",
    "    (2, \"Priya\", 22, \"Female\",55));\n",
    "except psycopg2.Error as e:\n",
    "    print(e)"
   ]
  },
  {
   "cell_type": "code",
   "execution_count": 139,
   "id": "aad133a6-617a-4139-b654-5478c164d36e",
   "metadata": {},
   "outputs": [
    {
     "name": "stdout",
     "output_type": "stream",
     "text": [
      "(1, 'Raj', 23, 'Male', 85)\n",
      "(2, 'Priya', 22, 'Female', 55)\n"
     ]
    }
   ],
   "source": [
    "cursor.execute(\"SELECT * FROM student;\")\n",
    "\n",
    "row = cursor.fetchone()\n",
    "while row:\n",
    "    print(row)\n",
    "    row=cursor.fetchone()"
   ]
  },
  {
   "cell_type": "code",
   "execution_count": null,
   "id": "d1f71ad1-c134-4301-8f99-8dfb50920fad",
   "metadata": {},
   "outputs": [],
   "source": []
  },
  {
   "cell_type": "code",
   "execution_count": null,
   "id": "568e99f7-2db7-4f5e-a5b0-61c7d66b6a8d",
   "metadata": {},
   "outputs": [],
   "source": []
  },
  {
   "cell_type": "code",
   "execution_count": null,
   "id": "5be5a320-31a9-449d-bd98-f387f503632a",
   "metadata": {},
   "outputs": [],
   "source": []
  },
  {
   "cell_type": "code",
   "execution_count": null,
   "id": "a880b5bb-4132-43b1-a878-9d8f874f49a4",
   "metadata": {},
   "outputs": [],
   "source": []
  },
  {
   "cell_type": "code",
   "execution_count": null,
   "id": "24b5e1aa-90fb-47d5-a731-0df9e920587c",
   "metadata": {},
   "outputs": [],
   "source": []
  },
  {
   "cell_type": "code",
   "execution_count": null,
   "id": "9b67ac2c-fff1-40a9-b527-a823593c09ed",
   "metadata": {},
   "outputs": [],
   "source": []
  },
  {
   "cell_type": "code",
   "execution_count": null,
   "id": "7d3d8ded-f363-4807-9dbe-692125094e73",
   "metadata": {},
   "outputs": [],
   "source": []
  },
  {
   "cell_type": "code",
   "execution_count": null,
   "id": "93db084c-5682-4078-b039-c38299ecefef",
   "metadata": {},
   "outputs": [],
   "source": []
  },
  {
   "cell_type": "code",
   "execution_count": null,
   "id": "3fd85f5f-b341-461f-a9ea-2fcbef5a270f",
   "metadata": {},
   "outputs": [],
   "source": []
  }
 ],
 "metadata": {
  "kernelspec": {
   "display_name": "Python [conda env:base] *",
   "language": "python",
   "name": "conda-base-py"
  },
  "language_info": {
   "codemirror_mode": {
    "name": "ipython",
    "version": 3
   },
   "file_extension": ".py",
   "mimetype": "text/x-python",
   "name": "python",
   "nbconvert_exporter": "python",
   "pygments_lexer": "ipython3",
   "version": "3.12.7"
  }
 },
 "nbformat": 4,
 "nbformat_minor": 5
}
